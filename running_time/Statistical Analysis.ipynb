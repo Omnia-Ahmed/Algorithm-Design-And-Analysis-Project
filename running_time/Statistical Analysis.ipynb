{
 "cells": [
  {
   "cell_type": "markdown",
   "metadata": {},
   "source": [
    "# Statistical Analysis of Edmonds Karp and Ford Flukerson Running Times"
   ]
  },
  {
   "cell_type": "markdown",
   "metadata": {},
   "source": [
    "All these numbers were obtained running on an Intel i3-5005U CPU @ 2.0 GHz running on the same 100 test cases for each algorithm"
   ]
  },
  {
   "cell_type": "code",
   "execution_count": null,
   "metadata": {},
   "outputs": [],
   "source": [
    "# read data\n",
    "ford_flukerson = [] # data for ford flukerson\n",
    "with open(\"FordFlukerson.txt\") as text:\n",
    "    ford_flukerson = [line.split(',') for line in text]\n",
    "edmonds_karp = []\n",
    "with open(\"EdmonsKarp.txt\") as text:\n",
    "    edmonds_karp = [line.split(',') for line in text]\n",
    "# make data integers\n",
    "for i in range(len(ford_flukerson)):\n",
    "    for j in range(len(ford_flukerson[i])):\n",
    "        ford_flukerson[i][j] = ford_flukerson[i][j].rstrip('\\n')\n",
    "        ford_flukerson[i][j] = int(ford_flukerson[i][j])\n",
    "        edmonds_karp[i][j] = edmonds_karp[i][j].rstrip('\\n')\n",
    "        edmonds_karp[i][j] = int(edmonds_karp[i][j])"
   ]
  },
  {
   "cell_type": "markdown",
   "metadata": {},
   "source": [
    "## Performance comparison"
   ]
  },
  {
   "cell_type": "code",
   "execution_count": null,
   "metadata": {},
   "outputs": [],
   "source": [
    "total_ford = 0\n",
    "for line in ford_flukerson:\n",
    "    total_ford += line[3]\n",
    "total_edmonds = 0\n",
    "for line in edmonds_karp:\n",
    "    total_edmonds += line[3]\n",
    "print(\n",
    "    \"Total time for ford flukerson is \" + str(total_ford) + \" milliseconds, which is \" \n",
    "    + str(total_ford/(1000*60*60)) + \" hours.\")\n",
    "print(\n",
    "    \"Total time for edmonds karo is \" + str(total_edmonds) + \" milliseconds, which is \" \n",
    "    + str(total_edmonds/(1000)) + \" seconds.\")"
   ]
  },
  {
   "cell_type": "code",
   "execution_count": null,
   "metadata": {},
   "outputs": [],
   "source": [
    "total_ford/total_edmonds"
   ]
  },
  {
   "cell_type": "markdown",
   "metadata": {},
   "source": [
    "From the above we deduce that ford flukerson is more than 1300 times slower than edmonds karp."
   ]
  },
  {
   "cell_type": "markdown",
   "metadata": {},
   "source": [
    "## Performance difference on each test case"
   ]
  },
  {
   "cell_type": "code",
   "execution_count": null,
   "metadata": {},
   "outputs": [],
   "source": [
    "ctr_edmonds = 0\n",
    "ctr_ford = 0\n",
    "ctr_same = 0\n",
    "for i in range(len(ford_flukerson)):\n",
    "    print(\"=================================================================\")\n",
    "    print(\"Test#\" + str(i + 1))\n",
    "    print(\"Number of nodes: \" + str(ford_flukerson[i][0]))\n",
    "    print(\"Number of edges: \" + str(ford_flukerson[i][1]))\n",
    "    print(\"Max Flow: \" + str(ford_flukerson[i][2]))\n",
    "    print(\"Time took by ford flukerson: \" + str(ford_flukerson[i][3]))\n",
    "    print(\"Time took by edmonds karp: \" + str(edmonds_karp[i][3]))\n",
    "    if ford_flukerson[i][3] < edmonds_karp[i][3]:\n",
    "        ctr_ford += 1\n",
    "    elif ford_flukerson[i][3] > edmonds_karp[i][3]:\n",
    "        ctr_edmonds += 1\n",
    "    else:\n",
    "        ctr_same += 1\n",
    "    print(\"=================================================================\")"
   ]
  },
  {
   "cell_type": "code",
   "execution_count": null,
   "metadata": {},
   "outputs": [],
   "source": [
    "print(\"Number of times edmonds karp is faster: \" + str(ctr_edmonds))\n",
    "print(\"Number of times ford flukerson is faster: \" + str(ctr_ford))\n",
    "print(\"Number of times both had the same performance: \" + str(ctr_same))"
   ]
  },
  {
   "cell_type": "code",
   "execution_count": null,
   "metadata": {},
   "outputs": [],
   "source": [
    "print(\"Percentage of tests edmonds karp is faster: \" + str(ctr_edmonds) + \"%\")\n",
    "print(\"Percentage of tests ford flukerson is faster: \" + str(ctr_ford) + \"%\")\n",
    "print(\"Percentage of tests both had the same performance: \" + str(ctr_same) + \"%\")"
   ]
  },
  {
   "cell_type": "markdown",
   "metadata": {},
   "source": [
    "The fastest time that ford flukerson performed was on test 21 where both of them finished the algorithm nearly instantaneously.\n",
    "If we take a closer look at that test case below"
   ]
  },
  {
   "cell_type": "markdown",
   "metadata": {},
   "source": [
    "Test 21\n",
    "\n",
    "Number of nodes: 420\n",
    "\n",
    "Number of edges: 1117\n",
    "\n",
    "Max Flow: 3994\n",
    "\n",
    "Time took by ford flukerson: 0\n",
    "\n",
    "Time took by edmonds karp: 0"
   ]
  },
  {
   "cell_type": "markdown",
   "metadata": {},
   "source": [
    "we see that despite having a large number of nodes which is near the max number of nodes (500) It has a small max flow (less than 10<sup>5</sup>)"
   ]
  },
  {
   "cell_type": "markdown",
   "metadata": {},
   "source": [
    "## Pearson Corellation between Big O Notation and real running time"
   ]
  },
  {
   "cell_type": "markdown",
   "metadata": {},
   "source": [
    "First we need to get the data ready to calculate the correlation"
   ]
  },
  {
   "cell_type": "code",
   "execution_count": null,
   "metadata": {},
   "outputs": [],
   "source": [
    "from scipy.stats import pearsonr"
   ]
  },
  {
   "cell_type": "code",
   "execution_count": null,
   "metadata": {},
   "outputs": [],
   "source": [
    "time = []\n",
    "bigo = []"
   ]
  },
  {
   "cell_type": "code",
   "execution_count": null,
   "metadata": {},
   "outputs": [],
   "source": [
    "# Ford Flukerson runs in O(V * MAX_FLOW)\n",
    "for line in ford_flukerson:\n",
    "    bigo.append(line[0] * line[2])\n",
    "    time.append(line[3])\n",
    "corr, _ = pearsonr(time, bigo)\n",
    "corr"
   ]
  },
  {
   "cell_type": "code",
   "execution_count": null,
   "metadata": {},
   "outputs": [],
   "source": [
    "time = []\n",
    "bigo = []\n",
    "# Edmonds Karp runs in O(V * E**2)\n",
    "for line in edmonds_karp:\n",
    "    bigo.append(line[0] * (line[1]**2))\n",
    "    time.append(line[3])\n",
    "corr, _ = pearsonr(time, bigo)\n",
    "corr"
   ]
  },
  {
   "cell_type": "markdown",
   "metadata": {},
   "source": [
    "From the above we see that both of them exibit a positive correlation which enforces the mathematical analysis of the running times."
   ]
  }
 ],
 "metadata": {
  "kernelspec": {
   "display_name": "Python 3.7.4 64-bit ('base': conda)",
   "language": "python",
   "name": "python37464bitbasecondafb69254600fc47b4b474667f2e90c52d"
  },
  "language_info": {
   "codemirror_mode": {
    "name": "ipython",
    "version": 3
   },
   "file_extension": ".py",
   "mimetype": "text/x-python",
   "name": "python",
   "nbconvert_exporter": "python",
   "pygments_lexer": "ipython3",
   "version": "3.8.5"
  }
 },
 "nbformat": 4,
 "nbformat_minor": 4
}
